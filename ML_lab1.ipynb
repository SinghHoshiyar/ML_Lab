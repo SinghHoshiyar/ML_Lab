{
  "nbformat": 4,
  "nbformat_minor": 0,
  "metadata": {
    "colab": {
      "provenance": [],
      "authorship_tag": "ABX9TyOA3DS1vSXm3pUluk/U4I3q",
      "include_colab_link": true
    },
    "kernelspec": {
      "name": "python3",
      "display_name": "Python 3"
    },
    "language_info": {
      "name": "python"
    }
  },
  "cells": [
    {
      "cell_type": "markdown",
      "metadata": {
        "id": "view-in-github",
        "colab_type": "text"
      },
      "source": [
        "<a href=\"https://colab.research.google.com/github/SinghHoshiyar/ML_Lab/blob/main/ML_lab1.ipynb\" target=\"_parent\"><img src=\"https://colab.research.google.com/assets/colab-badge.svg\" alt=\"Open In Colab\"/></a>"
      ]
    },
    {
      "cell_type": "code",
      "source": [
        "import numpy as np\n",
        "lst1=[1,2,3]\n",
        "array1 = np.array(lst1)"
      ],
      "metadata": {
        "id": "cwaUvtDSpqKl"
      },
      "execution_count": null,
      "outputs": []
    },
    {
      "cell_type": "code",
      "source": [
        "type(lst1)"
      ],
      "metadata": {
        "colab": {
          "base_uri": "https://localhost:8080/"
        },
        "id": "-mqMUkE6rIuA",
        "outputId": "53c0c9a5-ac8d-4e41-fbbf-1b8254584dda"
      },
      "execution_count": null,
      "outputs": [
        {
          "output_type": "execute_result",
          "data": {
            "text/plain": [
              "list"
            ]
          },
          "metadata": {},
          "execution_count": 6
        }
      ]
    },
    {
      "cell_type": "code",
      "source": [
        "type(array1)"
      ],
      "metadata": {
        "colab": {
          "base_uri": "https://localhost:8080/"
        },
        "id": "-tLUWqUssHvM",
        "outputId": "c03c6e59-b7f5-4d3d-d4f4-8a9d4d82631e"
      },
      "execution_count": null,
      "outputs": [
        {
          "output_type": "execute_result",
          "data": {
            "text/plain": [
              "numpy.ndarray"
            ]
          },
          "metadata": {},
          "execution_count": 7
        }
      ]
    },
    {
      "cell_type": "code",
      "source": [
        "lst2=[10,11,12]\n",
        "array2 = np.array(lst2)"
      ],
      "metadata": {
        "id": "2Z0nA_ycsKkQ"
      },
      "execution_count": null,
      "outputs": []
    },
    {
      "cell_type": "code",
      "source": [
        "print(f\"Adding two lists {lst1} and {lst2} together: {lst1+lst2}\")"
      ],
      "metadata": {
        "colab": {
          "base_uri": "https://localhost:8080/"
        },
        "id": "9FKEHkYjsNeV",
        "outputId": "51792036-fb93-4509-ecbd-786995ee3948"
      },
      "execution_count": null,
      "outputs": [
        {
          "output_type": "stream",
          "name": "stdout",
          "text": [
            "Adding two lists [1, 2, 3] and [10, 11, 12] together: [1, 2, 3, 10, 11, 12]\n"
          ]
        }
      ]
    },
    {
      "cell_type": "code",
      "source": [
        "print(f\"Adding two numpy arrays {array1} and {array2} together: {array1+array2}\")"
      ],
      "metadata": {
        "id": "u0U4tzT-sS6H",
        "colab": {
          "base_uri": "https://localhost:8080/"
        },
        "outputId": "bcdaa99c-e0c6-4309-f4f1-1f9ce26ddd4e"
      },
      "execution_count": null,
      "outputs": [
        {
          "output_type": "stream",
          "name": "stdout",
          "text": [
            "Adding two numpy arrays [1 2 3] and [10 11 12] together: [11 13 15]\n"
          ]
        }
      ]
    },
    {
      "cell_type": "code",
      "source": [
        "print(\"array2 multiplied by array1: \",array1*array2)\n",
        "print(\"array2 divided by array1: \",array2/array1)\n",
        "print(\"array2 raised to the power of array1: \",array2**array1)"
      ],
      "metadata": {
        "id": "6GB_SvTbsT5K",
        "colab": {
          "base_uri": "https://localhost:8080/"
        },
        "outputId": "a9e54f62-0965-4a79-9244-b437b3848ad3"
      },
      "execution_count": null,
      "outputs": [
        {
          "output_type": "stream",
          "name": "stdout",
          "text": [
            "array2 multiplied by array1:  [10 22 36]\n",
            "array2 divided by array1:  [10.   5.5  4. ]\n",
            "array2 raised to the power of array1:  [  10  121 1728]\n"
          ]
        }
      ]
    },
    {
      "cell_type": "code",
      "source": [
        "# sine function\n",
        "print(\"Sine: \",np.sin(array1))\n",
        "# logarithm\n",
        "print(\"Natural logarithm: \",np.log(array1))\n",
        "print(\"Base-10 logarithm: \",np.log10(array1))\n",
        "print(\"Base-2 logarithm: \",np.log2(array1))\n",
        "# Exponential\n",
        "print(\"Exponential: \",np.exp(array1))"
      ],
      "metadata": {
        "id": "L5lH8xK9sagM",
        "colab": {
          "base_uri": "https://localhost:8080/"
        },
        "outputId": "29d104e2-d810-4003-fb31-3e15472056ec"
      },
      "execution_count": null,
      "outputs": [
        {
          "output_type": "stream",
          "name": "stdout",
          "text": [
            "Sine:  [0.84147098 0.90929743 0.14112001]\n",
            "Natural logarithm:  [0.         0.69314718 1.09861229]\n",
            "Base-10 logarithm:  [0.         0.30103    0.47712125]\n",
            "Base-2 logarithm:  [0.        1.        1.5849625]\n",
            "Exponential:  [ 2.71828183  7.3890561  20.08553692]\n"
          ]
        }
      ]
    },
    {
      "cell_type": "code",
      "source": [
        "print(\"A series of zeroes:\",np.zeros(7))\n",
        "print(\"A series of ones:\",np.ones(9))\n",
        "print(\"A series of numbers:\",np.arange(5,16))\n",
        "print(\"Numbers spaced apart by 2:\",np.arange(0,11,2))\n",
        "print(\"Numbers spaced apart by float:\",np.arange(0,11,2.5))\n",
        "print(\"Every 5th number from 30 in reverse order: \",np.arange(30,-1,-5))\n",
        "print(\"11 linearly spaced numbers between 1 and 5: \",np.linspace(1,5,11))"
      ],
      "metadata": {
        "id": "pjUuAs3CsWN4",
        "colab": {
          "base_uri": "https://localhost:8080/"
        },
        "outputId": "334e35df-85b4-4d09-d18f-9b69b2d2a8bf"
      },
      "execution_count": null,
      "outputs": [
        {
          "output_type": "stream",
          "name": "stdout",
          "text": [
            "A series of zeroes: [0. 0. 0. 0. 0. 0. 0.]\n",
            "A series of ones: [1. 1. 1. 1. 1. 1. 1. 1. 1.]\n",
            "A series of numbers: [ 5  6  7  8  9 10 11 12 13 14 15]\n",
            "Numbers spaced apart by 2: [ 0  2  4  6  8 10]\n",
            "Numbers spaced apart by float: [ 0.   2.5  5.   7.5 10. ]\n",
            "Every 5th number from 30 in reverse order:  [30 25 20 15 10  5  0]\n",
            "11 linearly spaced numbers between 1 and 5:  [1.  1.4 1.8 2.2 2.6 3.  3.4 3.8 4.2 4.6 5. ]\n"
          ]
        }
      ]
    },
    {
      "cell_type": "code",
      "source": [
        "my_mat = [[1,2,3],[4,5,6],[7,8,9]]\n",
        "mat = np.array(my_mat)\n",
        "print(\"Type/Class of this object:\",type(mat))\n",
        "print(\"Here is the matrix\\n----------\\n\",mat,\"\\n----------\")"
      ],
      "metadata": {
        "id": "ErD2FCoSshlL",
        "colab": {
          "base_uri": "https://localhost:8080/"
        },
        "outputId": "106698dd-c257-469b-e959-963dfe2a5881"
      },
      "execution_count": null,
      "outputs": [
        {
          "output_type": "stream",
          "name": "stdout",
          "text": [
            "Type/Class of this object: <class 'numpy.ndarray'>\n",
            "Here is the matrix\n",
            "----------\n",
            " [[1 2 3]\n",
            " [4 5 6]\n",
            " [7 8 9]] \n",
            "----------\n"
          ]
        }
      ]
    },
    {
      "cell_type": "code",
      "source": [
        "my_tuple = np.array([(1.5,2,3), (4,5,6)])\n",
        "mat_tuple = np.array(my_tuple)\n",
        "print (mat_tuple)"
      ],
      "metadata": {
        "id": "WZqyRwEQslPo",
        "colab": {
          "base_uri": "https://localhost:8080/"
        },
        "outputId": "9b66eb82-8c10-456b-916a-25a1c2c864f3"
      },
      "execution_count": null,
      "outputs": [
        {
          "output_type": "stream",
          "name": "stdout",
          "text": [
            "[[1.5 2.  3. ]\n",
            " [4.  5.  6. ]]\n"
          ]
        }
      ]
    },
    {
      "cell_type": "code",
      "source": [
        "print(\"Dimension of this matrix: \",mat.ndim,sep='')\n",
        "print(\"Size of this matrix: \", mat.size,sep='')\n",
        "print(\"Shape of this matrix: \", mat.shape,sep='')\n",
        "print(\"Data type of this matrix: \", mat.dtype,sep='')"
      ],
      "metadata": {
        "id": "PSn9MyEPspGp",
        "colab": {
          "base_uri": "https://localhost:8080/"
        },
        "outputId": "460b34c7-e995-4112-e1c6-fd9907529cfb"
      },
      "execution_count": null,
      "outputs": [
        {
          "output_type": "stream",
          "name": "stdout",
          "text": [
            "Dimension of this matrix: 2\n",
            "Size of this matrix: 9\n",
            "Shape of this matrix: (3, 3)\n",
            "Data type of this matrix: int64\n"
          ]
        }
      ]
    },
    {
      "cell_type": "code",
      "source": [
        "print(\"Vector of zeros: \",np.zeros(5))\n",
        "print(\"Matrix of zeros: \",np.zeros((3,4)))\n",
        "print(\"Vector of ones: \",np.ones(4))\n",
        "print(\"Matrix of ones: \",np.ones((4,2)))\n",
        "print(\"Matrix of 5’s: \",5*np.ones((3,3)))\n",
        "print(\"Identity matrix of dimension 2:\",np.eye(2))\n",
        "print(\"Identity matrix of dimension 4:\",np.eye(4))\n",
        "print(\"Random matrix of shape (4,3):\\n\",np.random.randint(low=1,high=10,size=(4,3)))"
      ],
      "metadata": {
        "id": "G-feunHXswCd",
        "colab": {
          "base_uri": "https://localhost:8080/"
        },
        "outputId": "bd113dda-efea-48a7-ac25-134c0c2d0969"
      },
      "execution_count": null,
      "outputs": [
        {
          "output_type": "stream",
          "name": "stdout",
          "text": [
            "Vector of zeros:  [0. 0. 0. 0. 0.]\n",
            "Matrix of zeros:  [[0. 0. 0. 0.]\n",
            " [0. 0. 0. 0.]\n",
            " [0. 0. 0. 0.]]\n",
            "Vector of ones:  [1. 1. 1. 1.]\n",
            "Matrix of ones:  [[1. 1.]\n",
            " [1. 1.]\n",
            " [1. 1.]\n",
            " [1. 1.]]\n",
            "Matrix of 5’s:  [[5. 5. 5.]\n",
            " [5. 5. 5.]\n",
            " [5. 5. 5.]]\n",
            "Identity matrix of dimension 2: [[1. 0.]\n",
            " [0. 1.]]\n",
            "Identity matrix of dimension 4: [[1. 0. 0. 0.]\n",
            " [0. 1. 0. 0.]\n",
            " [0. 0. 1. 0.]\n",
            " [0. 0. 0. 1.]]\n",
            "Random matrix of shape (4,3):\n",
            " [[7 2 2]\n",
            " [2 1 3]\n",
            " [8 7 1]\n",
            " [1 1 4]]\n"
          ]
        }
      ]
    },
    {
      "cell_type": "code",
      "source": [
        "a = np.random.randint(1,100,30)\n",
        "b = a.reshape(2,3,5)\n",
        "c = a.reshape(6,5)\n",
        "print (\"Shape of a:\", a.shape)\n",
        "print (\"Shape of b:\", b.shape)\n",
        "print (\"Shape of c:\", c.shape)"
      ],
      "metadata": {
        "id": "mmfBs4dysz-X",
        "colab": {
          "base_uri": "https://localhost:8080/"
        },
        "outputId": "5a87c5d4-ebb1-4f94-f42d-78eb591b9ca8"
      },
      "execution_count": null,
      "outputs": [
        {
          "output_type": "stream",
          "name": "stdout",
          "text": [
            "Shape of a: (30,)\n",
            "Shape of b: (2, 3, 5)\n",
            "Shape of c: (6, 5)\n"
          ]
        }
      ]
    },
    {
      "cell_type": "code",
      "source": [
        "print(\"\\na looks like:\\n\",a)\n",
        "print(\"\\nb looks like:\\n\",b)\n",
        "print(\"\\nc looks like:\\n\",c)"
      ],
      "metadata": {
        "id": "xGFeEPvDs31j",
        "colab": {
          "base_uri": "https://localhost:8080/"
        },
        "outputId": "622c13f4-05e4-4d69-f099-61293fb033f3"
      },
      "execution_count": null,
      "outputs": [
        {
          "output_type": "stream",
          "name": "stdout",
          "text": [
            "\n",
            "a looks like:\n",
            " [87 56 11 11 18 16 70 65 92 76 15 80 42 82 40 92 61 59 93 65 55 78 21 62\n",
            " 51 77 11 29 38 80]\n",
            "\n",
            "b looks like:\n",
            " [[[87 56 11 11 18]\n",
            "  [16 70 65 92 76]\n",
            "  [15 80 42 82 40]]\n",
            "\n",
            " [[92 61 59 93 65]\n",
            "  [55 78 21 62 51]\n",
            "  [77 11 29 38 80]]]\n",
            "\n",
            "c looks like:\n",
            " [[87 56 11 11 18]\n",
            " [16 70 65 92 76]\n",
            " [15 80 42 82 40]\n",
            " [92 61 59 93 65]\n",
            " [55 78 21 62 51]\n",
            " [77 11 29 38 80]]\n"
          ]
        }
      ]
    },
    {
      "cell_type": "code",
      "source": [
        "b_flat = b.ravel()\n",
        "print(b_flat)"
      ],
      "metadata": {
        "id": "G_ydXUH7s6Us",
        "colab": {
          "base_uri": "https://localhost:8080/"
        },
        "outputId": "4463824d-e2dc-4e8c-91ed-87d3be41f782"
      },
      "execution_count": null,
      "outputs": [
        {
          "output_type": "stream",
          "name": "stdout",
          "text": [
            "[87 56 11 11 18 16 70 65 92 76 15 80 42 82 40 92 61 59 93 65 55 78 21 62\n",
            " 51 77 11 29 38 80]\n"
          ]
        }
      ]
    },
    {
      "cell_type": "code",
      "source": [
        "arr = np.arange(0,11)\n",
        "print(\"Array:\",arr)\n",
        "print(\"Element at 7th index is:\", arr[7])\n",
        "print(\"Elements from 3rd to 5th index are:\", arr[3:6])\n",
        "print(\"Elements up to 4th index are:\", arr[:4])\n",
        "print(\"Elements from last backwards are:\", arr[-1::-1])\n",
        "print(\"3 Elements from last backwards are:\", arr[-1:-6:-2])\n",
        "\n",
        "arr2 = np.arange(0,21,2)\n",
        "print(\"New array:\",arr2)\n",
        "print(\"Elements at 2nd, 4th, and 9th index are:\", arr2[[2,4,9]])"
      ],
      "metadata": {
        "id": "KPJKDQkos92t",
        "colab": {
          "base_uri": "https://localhost:8080/"
        },
        "outputId": "51ab12a0-ed65-4d09-e7c4-bfc20ad8f717"
      },
      "execution_count": null,
      "outputs": [
        {
          "output_type": "stream",
          "name": "stdout",
          "text": [
            "Array: [ 0  1  2  3  4  5  6  7  8  9 10]\n",
            "Element at 7th index is: 7\n",
            "Elements from 3rd to 5th index are: [3 4 5]\n",
            "Elements up to 4th index are: [0 1 2 3]\n",
            "Elements from last backwards are: [10  9  8  7  6  5  4  3  2  1  0]\n",
            "3 Elements from last backwards are: [10  8  6]\n",
            "New array: [ 0  2  4  6  8 10 12 14 16 18 20]\n",
            "Elements at 2nd, 4th, and 9th index are: [ 4  8 18]\n"
          ]
        }
      ]
    },
    {
      "cell_type": "code",
      "source": [
        "mat = np.random.randint(10,100,15).reshape(3,5)\n",
        "print(\"Matrix of random 2-digit numbers\\n\",mat)\n",
        "\n",
        "print(\"\\nDouble bracket indexing\\n\")\n",
        "print(\"Element in row index 1 and column index 2:\", mat[1][2])\n",
        "\n",
        "print(\"\\nSingle bracket with comma indexing\\n\")\n",
        "print(\"Element in row index 1 and column index 2:\", mat[1,2])\n",
        "print(\"\\nRow or column extract\\n\")\n",
        "\n",
        "print(\"Entire row at index 2:\", mat[2])\n",
        "print(\"Entire column at index 3:\", mat[:,3])\n",
        "\n",
        "print(\"\\nSubsetting sub-matrices\\n\")\n",
        "print(\"Matrix with row indices 1 and 2 and column indices 3 and 4\\n\", mat[1:3,3:5])\n",
        "print(\"Matrix with row indices 0 and 1 and column indices 1 and 3\\n\", mat[0:2,[1,3]])"
      ],
      "metadata": {
        "colab": {
          "base_uri": "https://localhost:8080/"
        },
        "id": "pWl7vJYYtHum",
        "outputId": "2380099c-86c4-4bad-f4f8-0653c8f39b5b"
      },
      "execution_count": null,
      "outputs": [
        {
          "output_type": "stream",
          "name": "stdout",
          "text": [
            "Matrix of random 2-digit numbers\n",
            " [[23 61 28 89 52]\n",
            " [58 37 42 88 70]\n",
            " [71 65 41 37 62]]\n",
            "\n",
            "Double bracket indexing\n",
            "\n",
            "Element in row index 1 and column index 2: 42\n",
            "\n",
            "Single bracket with comma indexing\n",
            "\n",
            "Element in row index 1 and column index 2: 42\n",
            "\n",
            "Row or column extract\n",
            "\n",
            "Entire row at index 2: [71 65 41 37 62]\n",
            "Entire column at index 3: [89 88 37]\n",
            "\n",
            "Subsetting sub-matrices\n",
            "\n",
            "Matrix with row indices 1 and 2 and column indices 3 and 4\n",
            " [[88 70]\n",
            " [37 62]]\n",
            "Matrix with row indices 0 and 1 and column indices 1 and 3\n",
            " [[61 89]\n",
            " [37 88]]\n"
          ]
        }
      ]
    },
    {
      "cell_type": "code",
      "source": [
        "mat = np.random.randint(10,100,15).reshape(3,5)\n",
        "print(\"Matrix of random 2-digit numbers\\n\",mat)\n",
        "print (\"\\nElements greater than 50\\n\", mat[mat>50])"
      ],
      "metadata": {
        "id": "daZjItlJtLMt",
        "colab": {
          "base_uri": "https://localhost:8080/"
        },
        "outputId": "f349261f-c63d-4120-8c7a-12d59bff154d"
      },
      "execution_count": null,
      "outputs": [
        {
          "output_type": "stream",
          "name": "stdout",
          "text": [
            "Matrix of random 2-digit numbers\n",
            " [[58 90 36 12 85]\n",
            " [62 24 63 29 88]\n",
            " [71 13 41 42 79]]\n",
            "\n",
            "Elements greater than 50\n",
            " [58 90 85 62 63 88 71 79]\n"
          ]
        }
      ]
    },
    {
      "cell_type": "code",
      "source": [
        "mat>50"
      ],
      "metadata": {
        "colab": {
          "base_uri": "https://localhost:8080/"
        },
        "id": "gYMXu7FrtPZT",
        "outputId": "2b3c55c9-8cf2-452e-ba93-7801e6803c0d"
      },
      "execution_count": null,
      "outputs": [
        {
          "output_type": "execute_result",
          "data": {
            "text/plain": [
              "array([[ True,  True, False, False,  True],\n",
              "       [ True, False,  True, False,  True],\n",
              "       [ True, False, False, False,  True]])"
            ]
          },
          "metadata": {},
          "execution_count": 24
        }
      ]
    },
    {
      "cell_type": "code",
      "source": [
        "mat*(mat>50)"
      ],
      "metadata": {
        "id": "JBekoCURtSJZ"
      },
      "execution_count": null,
      "outputs": []
    },
    {
      "cell_type": "code",
      "source": [
        "mat1 = np.random.randint(1,10,9).reshape(3,3)\n",
        "mat2 = np.random.randint(1,10,9).reshape(3,3)\n",
        "print(\"\\n1st Matrix of random single-digit numbers\\n\",mat1)\n",
        "print(\"\\n2nd Matrix of random single-digit numbers\\n\",mat2)\n",
        "\n",
        "print(\"\\nAddition\\n\", mat1+mat2)\n",
        "print(\"\\nMultiplication\\n\", mat1*mat2)\n",
        "print(\"\\nDivision\\n\", mat1/mat2)\n",
        "print(\"\\nLineaer combination: 3*A - 2*B\\n\", 3*mat1-2*mat2)\n",
        "\n",
        "print(\"\\nAddition of a scalar (100)\\n\", 100+mat1)\n",
        "\n",
        "print(\"\\nExponentiation, matrix cubed here\\n\", mat1**3)\n",
        "print(\"\\nExponentiation, sq-root using pow function\\n\",pow(mat1,0.5))"
      ],
      "metadata": {
        "id": "OjyjaLodtWm9",
        "colab": {
          "base_uri": "https://localhost:8080/"
        },
        "outputId": "8c52d5f8-3264-45d8-8f3a-99c3243ce0fc"
      },
      "execution_count": null,
      "outputs": [
        {
          "output_type": "stream",
          "name": "stdout",
          "text": [
            "\n",
            "1st Matrix of random single-digit numbers\n",
            " [[4 6 2]\n",
            " [6 5 4]\n",
            " [1 7 6]]\n",
            "\n",
            "2nd Matrix of random single-digit numbers\n",
            " [[2 8 6]\n",
            " [3 4 4]\n",
            " [4 4 5]]\n",
            "\n",
            "Addition\n",
            " [[ 6 14  8]\n",
            " [ 9  9  8]\n",
            " [ 5 11 11]]\n",
            "\n",
            "Multiplication\n",
            " [[ 8 48 12]\n",
            " [18 20 16]\n",
            " [ 4 28 30]]\n",
            "\n",
            "Division\n",
            " [[2.         0.75       0.33333333]\n",
            " [2.         1.25       1.        ]\n",
            " [0.25       1.75       1.2       ]]\n",
            "\n",
            "Lineaer combination: 3*A - 2*B\n",
            " [[ 8  2 -6]\n",
            " [12  7  4]\n",
            " [-5 13  8]]\n",
            "\n",
            "Addition of a scalar (100)\n",
            " [[104 106 102]\n",
            " [106 105 104]\n",
            " [101 107 106]]\n",
            "\n",
            "Exponentiation, matrix cubed here\n",
            " [[ 64 216   8]\n",
            " [216 125  64]\n",
            " [  1 343 216]]\n",
            "\n",
            "Exponentiation, sq-root using pow function\n",
            " [[2.         2.44948974 1.41421356]\n",
            " [2.44948974 2.23606798 2.        ]\n",
            " [1.         2.64575131 2.44948974]]\n"
          ]
        }
      ]
    },
    {
      "cell_type": "code",
      "source": [
        "import pandas as pd"
      ],
      "metadata": {
        "id": "QbDFpovatcLv"
      },
      "execution_count": null,
      "outputs": []
    },
    {
      "cell_type": "code",
      "source": [
        "labels = ['a','b','c']\n",
        "my_data = [10,20,30]\n",
        "arr = np.array(my_data)\n",
        "d = {'a':10,'b':20,'c':30}\n",
        "\n",
        "print (\"Labels:\", labels)\n",
        "print(\"My data:\", my_data)\n",
        "print(\"Dictionary:\", d)"
      ],
      "metadata": {
        "id": "fhf_qCRHtdOM",
        "colab": {
          "base_uri": "https://localhost:8080/"
        },
        "outputId": "585ab5a4-321f-4955-e321-3e962009e567"
      },
      "execution_count": null,
      "outputs": [
        {
          "output_type": "stream",
          "name": "stdout",
          "text": [
            "Labels: ['a', 'b', 'c']\n",
            "My data: [10, 20, 30]\n",
            "Dictionary: {'a': 10, 'b': 20, 'c': 30}\n"
          ]
        }
      ]
    },
    {
      "cell_type": "code",
      "source": [
        "s1=pd.Series(data=my_data)\n",
        "print(s1)"
      ],
      "metadata": {
        "id": "EFeiDWogtjrj",
        "colab": {
          "base_uri": "https://localhost:8080/"
        },
        "outputId": "264d3fae-f63d-491b-c6af-77ea28d9dbbe"
      },
      "execution_count": null,
      "outputs": [
        {
          "output_type": "stream",
          "name": "stdout",
          "text": [
            "0    10\n",
            "1    20\n",
            "2    30\n",
            "dtype: int64\n"
          ]
        }
      ]
    },
    {
      "cell_type": "code",
      "source": [
        "s2=pd.Series(data=my_data, index=labels)\n",
        "print(s2)"
      ],
      "metadata": {
        "id": "sdT1twvutlsl",
        "colab": {
          "base_uri": "https://localhost:8080/"
        },
        "outputId": "c18c6f64-e7c8-436d-f7bd-f99d910083de"
      },
      "execution_count": null,
      "outputs": [
        {
          "output_type": "stream",
          "name": "stdout",
          "text": [
            "a    10\n",
            "b    20\n",
            "c    30\n",
            "dtype: int64\n"
          ]
        }
      ]
    },
    {
      "cell_type": "code",
      "source": [
        "s3=pd.Series(arr, labels)\n",
        "print(s3)"
      ],
      "metadata": {
        "id": "qikvuAOGtoCo",
        "colab": {
          "base_uri": "https://localhost:8080/"
        },
        "outputId": "d32ee4ac-9b48-4f5a-e6d7-7f66f251ab30"
      },
      "execution_count": null,
      "outputs": [
        {
          "output_type": "stream",
          "name": "stdout",
          "text": [
            "a    10\n",
            "b    20\n",
            "c    30\n",
            "dtype: int64\n"
          ]
        }
      ]
    },
    {
      "cell_type": "code",
      "source": [
        "s4=pd.Series(d)\n",
        "print(s4)"
      ],
      "metadata": {
        "id": "8-2awCWntqbb",
        "colab": {
          "base_uri": "https://localhost:8080/"
        },
        "outputId": "3da6b037-6cd1-4e2a-dbfd-816394f32d1c"
      },
      "execution_count": null,
      "outputs": [
        {
          "output_type": "stream",
          "name": "stdout",
          "text": [
            "a    10\n",
            "b    20\n",
            "c    30\n",
            "dtype: int64\n"
          ]
        }
      ]
    },
    {
      "cell_type": "code",
      "source": [
        "matrix_data = np.random.randint(1,20,size=20).reshape(5,4)\n",
        "row_labels = ['A','B','C','D','E']\n",
        "column_headings = ['W','X','Y','Z']\n",
        "\n",
        "df = pd.DataFrame(data=matrix_data, index=row_labels, columns=column_headings)\n",
        "print(\"\\nThe data frame looks like\\n\",'-'*45, sep='')\n",
        "print(df)"
      ],
      "metadata": {
        "id": "autHdLplts8G",
        "colab": {
          "base_uri": "https://localhost:8080/"
        },
        "outputId": "970d7ba8-ad10-4e5a-c5fe-d42018733c49"
      },
      "execution_count": null,
      "outputs": [
        {
          "output_type": "stream",
          "name": "stdout",
          "text": [
            "\n",
            "The data frame looks like\n",
            "---------------------------------------------\n",
            "    W   X   Y   Z\n",
            "A   9  17  16   8\n",
            "B  11   2   1  15\n",
            "C   3   2   5   1\n",
            "D  19  11   9  13\n",
            "E   7  16  16  12\n"
          ]
        }
      ]
    },
    {
      "cell_type": "code",
      "source": [
        "d={'a':[10,20],'b':[30,40],'c':[50,60]}\n",
        "df2=pd.DataFrame(data=d,index=['X','Y'])\n",
        "print(df2)"
      ],
      "metadata": {
        "id": "MIADqMu1tvdA",
        "colab": {
          "base_uri": "https://localhost:8080/"
        },
        "outputId": "4bb4c47f-ed3a-496d-8882-6eb057db550b"
      },
      "execution_count": null,
      "outputs": [
        {
          "output_type": "stream",
          "name": "stdout",
          "text": [
            "    a   b   c\n",
            "X  10  30  50\n",
            "Y  20  40  60\n"
          ]
        }
      ]
    }
  ]
}